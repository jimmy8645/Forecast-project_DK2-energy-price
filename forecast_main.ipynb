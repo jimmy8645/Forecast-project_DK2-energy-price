{
 "cells": [
  {
   "cell_type": "code",
   "execution_count": 1,
   "metadata": {},
   "outputs": [],
   "source": [
    "import pandas as pd\n",
    "import numpy as np\n",
    "import seaborn as sns\n",
    "import matplotlib.pyplot as plt\n",
    "import datetime as dt\n",
    "import requests as req"
   ]
  },
  {
   "attachments": {},
   "cell_type": "markdown",
   "metadata": {},
   "source": [
    "## 1. Data import \n",
    "\n",
    "### 1.1 API request"
   ]
  },
  {
   "cell_type": "code",
   "execution_count": null,
   "metadata": {},
   "outputs": [],
   "source": [
    "def data_request_API(dataset_name, start_date, end_date, sort = 'HourDK asc', set_time_index = True):\n",
    "\n",
    "    \"\"\"API Dataset request to Energidataservice\n",
    "\n",
    "    Arg:\n",
    "        dataset_name(str): Name of dataset to import.\n",
    "\n",
    "        start_date (str): Start data of time index. \n",
    "        Ex: '2020-01-01'\n",
    "\n",
    "        end_date (str): End date of time index. \n",
    "        Ex: '2023-01-01'\n",
    "\n",
    "        sort (str, optional): Sorting method. Defaults to 'HourDK asc'.\n",
    "\n",
    "        set_time_index (bool, optional): Set automativally the time index as datetime format. Defaults to True.\n",
    "\n",
    "    Returns:\n",
    "        df: Requested dataframe\n",
    "\n",
    "    Examples:\n",
    "        df = data_request_API('elspotprices', '2020-01-01', '2023-12-01')\n",
    "\n",
    "    \"\"\"\n",
    "    \n",
    "    #Create query for the API request\n",
    "    query = {'start': start_date,\n",
    "             'end': end_date,\n",
    "             'sort': sort}\n",
    "    \n",
    "    # Create URL for the dataset location\n",
    "    requestURL = 'http://api.energidataservice.dk/dataset/' + dataset_name \n",
    "\n",
    "    # Request the json object\n",
    "    response_json = req.get(requestURL, \n",
    "                            params = query\n",
    "                            ).json()\n",
    "    \n",
    "    # Convert json to pandas dataframe\n",
    "    df = pd.json_normalize(response_json     ['records'])\n",
    "\n",
    "    if set_time_index == True:\n",
    "        # Convert index to datetime format\n",
    "        df['HourDK'] = pd.to_datetime(df['HourDK'])\n",
    "\n",
    "        # Set datetime index\n",
    "        df.set_index(['HourDK'], inplace= True)\n",
    "\n",
    "    return df"
   ]
  }
 ],
 "metadata": {
  "kernelspec": {
   "display_name": "Python 3",
   "language": "python",
   "name": "python3"
  },
  "language_info": {
   "codemirror_mode": {
    "name": "ipython",
    "version": 3
   },
   "file_extension": ".py",
   "mimetype": "text/x-python",
   "name": "python",
   "nbconvert_exporter": "python",
   "pygments_lexer": "ipython3",
   "version": "3.9.1"
  },
  "orig_nbformat": 4
 },
 "nbformat": 4,
 "nbformat_minor": 2
}
